{
 "cells": [
  {
   "cell_type": "markdown",
   "metadata": {},
   "source": [
    "# Setup"
   ]
  },
  {
   "cell_type": "code",
   "execution_count": 1,
   "metadata": {
    "ExecuteTime": {
     "end_time": "2019-03-13T00:37:33.630022Z",
     "start_time": "2019-03-13T00:37:31.738742Z"
    }
   },
   "outputs": [],
   "source": [
    "import math\n",
    "import numpy as np\n",
    "import pandas as pd\n",
    "\n",
    "from sklearn.compose import ColumnTransformer\n",
    "from sklearn.metrics import mean_squared_error\n",
    "from sklearn.model_selection import GridSearchCV\n",
    "from sklearn.model_selection import train_test_split\n",
    "from sklearn.pipeline import Pipeline\n",
    "from sklearn.preprocessing import LabelEncoder, OneHotEncoder, StandardScaler\n",
    "from sklearn.linear_model import ElasticNet\n",
    "from sklearn.ensemble import RandomForestRegressor\n",
    "from sklearn.ensemble import GradientBoostingRegressor"
   ]
  },
  {
   "cell_type": "code",
   "execution_count": 2,
   "metadata": {
    "ExecuteTime": {
     "end_time": "2019-03-13T00:37:33.633765Z",
     "start_time": "2019-03-13T00:37:33.631646Z"
    }
   },
   "outputs": [],
   "source": [
    "import warnings; warnings.simplefilter('ignore')"
   ]
  },
  {
   "cell_type": "markdown",
   "metadata": {},
   "source": [
    "<br>\n",
    "<br>\n",
    "<br>"
   ]
  },
  {
   "cell_type": "markdown",
   "metadata": {},
   "source": [
    "# Load Final Data Frame"
   ]
  },
  {
   "cell_type": "code",
   "execution_count": 3,
   "metadata": {
    "ExecuteTime": {
     "end_time": "2019-03-13T00:37:33.662221Z",
     "start_time": "2019-03-13T00:37:33.634984Z"
    }
   },
   "outputs": [
    {
     "data": {
      "text/html": [
       "<div>\n",
       "<style scoped>\n",
       "    .dataframe tbody tr th:only-of-type {\n",
       "        vertical-align: middle;\n",
       "    }\n",
       "\n",
       "    .dataframe tbody tr th {\n",
       "        vertical-align: top;\n",
       "    }\n",
       "\n",
       "    .dataframe thead th {\n",
       "        text-align: right;\n",
       "    }\n",
       "</style>\n",
       "<table border=\"1\" class=\"dataframe\">\n",
       "  <thead>\n",
       "    <tr style=\"text-align: right;\">\n",
       "      <th></th>\n",
       "      <th>count</th>\n",
       "      <th>max(AQI)</th>\n",
       "      <th>pre_AQI</th>\n",
       "      <th>month</th>\n",
       "      <th>year</th>\n",
       "      <th>season</th>\n",
       "    </tr>\n",
       "  </thead>\n",
       "  <tbody>\n",
       "    <tr>\n",
       "      <th>0</th>\n",
       "      <td>14587</td>\n",
       "      <td>29</td>\n",
       "      <td>23</td>\n",
       "      <td>1</td>\n",
       "      <td>2016</td>\n",
       "      <td>winter</td>\n",
       "    </tr>\n",
       "    <tr>\n",
       "      <th>1</th>\n",
       "      <td>15499</td>\n",
       "      <td>28</td>\n",
       "      <td>29</td>\n",
       "      <td>1</td>\n",
       "      <td>2016</td>\n",
       "      <td>winter</td>\n",
       "    </tr>\n",
       "    <tr>\n",
       "      <th>2</th>\n",
       "      <td>19593</td>\n",
       "      <td>23</td>\n",
       "      <td>28</td>\n",
       "      <td>1</td>\n",
       "      <td>2016</td>\n",
       "      <td>winter</td>\n",
       "    </tr>\n",
       "    <tr>\n",
       "      <th>3</th>\n",
       "      <td>18053</td>\n",
       "      <td>48</td>\n",
       "      <td>23</td>\n",
       "      <td>1</td>\n",
       "      <td>2016</td>\n",
       "      <td>winter</td>\n",
       "    </tr>\n",
       "    <tr>\n",
       "      <th>4</th>\n",
       "      <td>24569</td>\n",
       "      <td>60</td>\n",
       "      <td>48</td>\n",
       "      <td>1</td>\n",
       "      <td>2016</td>\n",
       "      <td>winter</td>\n",
       "    </tr>\n",
       "  </tbody>\n",
       "</table>\n",
       "</div>"
      ],
      "text/plain": [
       "   count  max(AQI)  pre_AQI  month  year  season\n",
       "0  14587        29       23      1  2016  winter\n",
       "1  15499        28       29      1  2016  winter\n",
       "2  19593        23       28      1  2016  winter\n",
       "3  18053        48       23      1  2016  winter\n",
       "4  24569        60       48      1  2016  winter"
      ]
     },
     "execution_count": 3,
     "metadata": {},
     "output_type": "execute_result"
    }
   ],
   "source": [
    "col_names = ['count', 'max(AQI)', 'pre_AQI', 'month', 'year', 'season']\n",
    "bikeshare = pd.read_csv(\"Final_BikeshareDF2.csv\", header=None, names=col_names, parse_dates=True)\n",
    "bikeshare.head()"
   ]
  },
  {
   "cell_type": "markdown",
   "metadata": {},
   "source": [
    "<br>\n",
    "<br>\n",
    "<br>"
   ]
  },
  {
   "cell_type": "markdown",
   "metadata": {},
   "source": [
    "# Prepare Data for Machine Learning Pipeline"
   ]
  },
  {
   "cell_type": "code",
   "execution_count": 4,
   "metadata": {
    "ExecuteTime": {
     "end_time": "2019-03-13T00:37:33.721017Z",
     "start_time": "2019-03-13T00:37:33.663524Z"
    },
    "scrolled": true
   },
   "outputs": [
    {
     "data": {
      "text/html": [
       "<div>\n",
       "<style scoped>\n",
       "    .dataframe tbody tr th:only-of-type {\n",
       "        vertical-align: middle;\n",
       "    }\n",
       "\n",
       "    .dataframe tbody tr th {\n",
       "        vertical-align: top;\n",
       "    }\n",
       "\n",
       "    .dataframe thead th {\n",
       "        text-align: right;\n",
       "    }\n",
       "</style>\n",
       "<table border=\"1\" class=\"dataframe\">\n",
       "  <thead>\n",
       "    <tr style=\"text-align: right;\">\n",
       "      <th></th>\n",
       "      <th>count</th>\n",
       "      <th>max(AQI)</th>\n",
       "      <th>pre_AQI</th>\n",
       "      <th>month</th>\n",
       "      <th>year</th>\n",
       "      <th>season_autumn</th>\n",
       "      <th>season_spring</th>\n",
       "      <th>season_summer</th>\n",
       "      <th>season_winter</th>\n",
       "    </tr>\n",
       "  </thead>\n",
       "  <tbody>\n",
       "    <tr>\n",
       "      <th>0</th>\n",
       "      <td>14587</td>\n",
       "      <td>29</td>\n",
       "      <td>23</td>\n",
       "      <td>1</td>\n",
       "      <td>2016</td>\n",
       "      <td>0</td>\n",
       "      <td>0</td>\n",
       "      <td>0</td>\n",
       "      <td>1</td>\n",
       "    </tr>\n",
       "    <tr>\n",
       "      <th>1</th>\n",
       "      <td>15499</td>\n",
       "      <td>28</td>\n",
       "      <td>29</td>\n",
       "      <td>1</td>\n",
       "      <td>2016</td>\n",
       "      <td>0</td>\n",
       "      <td>0</td>\n",
       "      <td>0</td>\n",
       "      <td>1</td>\n",
       "    </tr>\n",
       "    <tr>\n",
       "      <th>2</th>\n",
       "      <td>19593</td>\n",
       "      <td>23</td>\n",
       "      <td>28</td>\n",
       "      <td>1</td>\n",
       "      <td>2016</td>\n",
       "      <td>0</td>\n",
       "      <td>0</td>\n",
       "      <td>0</td>\n",
       "      <td>1</td>\n",
       "    </tr>\n",
       "    <tr>\n",
       "      <th>3</th>\n",
       "      <td>18053</td>\n",
       "      <td>48</td>\n",
       "      <td>23</td>\n",
       "      <td>1</td>\n",
       "      <td>2016</td>\n",
       "      <td>0</td>\n",
       "      <td>0</td>\n",
       "      <td>0</td>\n",
       "      <td>1</td>\n",
       "    </tr>\n",
       "    <tr>\n",
       "      <th>4</th>\n",
       "      <td>24569</td>\n",
       "      <td>60</td>\n",
       "      <td>48</td>\n",
       "      <td>1</td>\n",
       "      <td>2016</td>\n",
       "      <td>0</td>\n",
       "      <td>0</td>\n",
       "      <td>0</td>\n",
       "      <td>1</td>\n",
       "    </tr>\n",
       "  </tbody>\n",
       "</table>\n",
       "</div>"
      ],
      "text/plain": [
       "   count  max(AQI)  pre_AQI  month  year  season_autumn  season_spring  \\\n",
       "0  14587        29       23      1  2016              0              0   \n",
       "1  15499        28       29      1  2016              0              0   \n",
       "2  19593        23       28      1  2016              0              0   \n",
       "3  18053        48       23      1  2016              0              0   \n",
       "4  24569        60       48      1  2016              0              0   \n",
       "\n",
       "   season_summer  season_winter  \n",
       "0              0              1  \n",
       "1              0              1  \n",
       "2              0              1  \n",
       "3              0              1  \n",
       "4              0              1  "
      ]
     },
     "execution_count": 4,
     "metadata": {},
     "output_type": "execute_result"
    }
   ],
   "source": [
    "bike_ml = bikeshare.dropna()\n",
    "bike_ml = pd.get_dummies(bike_ml)\n",
    "bike_ml.head()"
   ]
  },
  {
   "cell_type": "markdown",
   "metadata": {},
   "source": [
    "<br>\n",
    "<br>\n",
    "<br>"
   ]
  },
  {
   "cell_type": "markdown",
   "metadata": {},
   "source": [
    "# Split Training (Pre-2018) and Test Sets (2018)"
   ]
  },
  {
   "cell_type": "code",
   "execution_count": 5,
   "metadata": {
    "ExecuteTime": {
     "end_time": "2019-03-13T00:37:33.727042Z",
     "start_time": "2019-03-13T00:37:33.722356Z"
    }
   },
   "outputs": [],
   "source": [
    "training = bike_ml[bike_ml.year != 2018].drop(['month', 'year'], axis=1)\n",
    "test = bike_ml[bike_ml.year == 2018].drop(['month', 'year'], axis=1)"
   ]
  },
  {
   "cell_type": "markdown",
   "metadata": {},
   "source": [
    "# Train-Validation Split"
   ]
  },
  {
   "cell_type": "code",
   "execution_count": 6,
   "metadata": {
    "ExecuteTime": {
     "end_time": "2019-03-13T00:37:33.731870Z",
     "start_time": "2019-03-13T00:37:33.728307Z"
    }
   },
   "outputs": [],
   "source": [
    "training_features = training.drop('max(AQI)', axis=1)\n",
    "training_labels = training['max(AQI)']\n",
    "\n",
    "test_features = test.drop('max(AQI)', axis=1)\n",
    "test_labels = test['max(AQI)']"
   ]
  },
  {
   "cell_type": "code",
   "execution_count": 7,
   "metadata": {
    "ExecuteTime": {
     "end_time": "2019-03-13T00:37:33.737681Z",
     "start_time": "2019-03-13T00:37:33.733087Z"
    }
   },
   "outputs": [],
   "source": [
    "train_data, val_data, train_target, val_target = train_test_split(training_features,\n",
    "                                                                    training_labels,\n",
    "                                                                    train_size=0.8,\n",
    "                                                                    test_size=0.2)"
   ]
  },
  {
   "cell_type": "markdown",
   "metadata": {},
   "source": [
    "<br>\n",
    "<br>\n",
    "<br>"
   ]
  },
  {
   "cell_type": "markdown",
   "metadata": {},
   "source": [
    "# Modeling"
   ]
  },
  {
   "cell_type": "markdown",
   "metadata": {},
   "source": [
    "## Baseline"
   ]
  },
  {
   "cell_type": "code",
   "execution_count": 8,
   "metadata": {
    "ExecuteTime": {
     "end_time": "2019-03-13T00:37:33.743287Z",
     "start_time": "2019-03-13T00:37:33.738995Z"
    }
   },
   "outputs": [
    {
     "name": "stdout",
     "output_type": "stream",
     "text": [
      "Average AQI Over Training Dataset: 27.824956672443673\n",
      "Baseline Validation RMSE = 8.6839\n",
      "Baseline Test RMSE = 16.028\n"
     ]
    }
   ],
   "source": [
    "train_avg_aqi = train_target.mean()  # best constant prediction\n",
    "print(f\"Average AQI Over Training Dataset: {train_avg_aqi}\")\n",
    "\n",
    "base_val_rmse = math.sqrt(mean_squared_error(val_target,\n",
    "                                             pd.Series([train_avg_aqi] * val_target.size)))\n",
    "print(f'Baseline Validation RMSE = {round(base_val_rmse, 4)}')\n",
    "\n",
    "base_test_rmse = math.sqrt(mean_squared_error(test_labels,\n",
    "                                              pd.Series([train_avg_aqi] * test_labels.size)))\n",
    "print(f'Baseline Test RMSE = {round(base_test_rmse, 4)}')"
   ]
  },
  {
   "cell_type": "markdown",
   "metadata": {},
   "source": [
    "## Linear Regression"
   ]
  },
  {
   "cell_type": "code",
   "execution_count": 9,
   "metadata": {
    "ExecuteTime": {
     "end_time": "2019-03-13T00:37:39.155361Z",
     "start_time": "2019-03-13T00:37:33.744697Z"
    }
   },
   "outputs": [
    {
     "name": "stdout",
     "output_type": "stream",
     "text": [
      "Validation RMSE: 7.804544887052386\n",
      "Test RMSE: 11.912447652825255\n"
     ]
    }
   ],
   "source": [
    "# Scale only Non-categorical columns\n",
    "ct = ColumnTransformer(\n",
    "    [('scaler', StandardScaler(), [0, 1, 2])],\n",
    "    remainder='passthrough',\n",
    "    n_jobs=-1\n",
    ")\n",
    "\n",
    "# Build Pipeline\n",
    "lr_pipe = Pipeline([('transf', ct),\n",
    "                   ('clf', ElasticNet())])\n",
    "\n",
    "# Regularization parameter\n",
    "parameters = dict(clf__l1_ratio=np.arange(0, 1, 0.1))\n",
    "\n",
    "# Gridsearch\n",
    "gs = GridSearchCV(estimator=lr_pipe,\n",
    "                  param_grid=parameters,\n",
    "                  scoring='neg_mean_squared_error',\n",
    "                  cv=10,\n",
    "                  n_jobs=-1)\n",
    "\n",
    "# Fit\n",
    "gs.fit(train_data, train_target)\n",
    "\n",
    "# Validation RMSE\n",
    "print(f\"Validation RMSE: {math.sqrt(-gs.score(val_data, val_target))}\")\n",
    "\n",
    "# Test RMSE\n",
    "print(f\"Test RMSE: {math.sqrt(-gs.score(test_features, test_labels))}\")"
   ]
  },
  {
   "cell_type": "markdown",
   "metadata": {},
   "source": [
    "<br>\n",
    "<br>\n",
    "<br>"
   ]
  },
  {
   "cell_type": "markdown",
   "metadata": {},
   "source": [
    "## Random Forest "
   ]
  },
  {
   "cell_type": "code",
   "execution_count": 10,
   "metadata": {
    "ExecuteTime": {
     "end_time": "2019-03-13T00:37:49.186445Z",
     "start_time": "2019-03-13T00:37:39.157104Z"
    }
   },
   "outputs": [
    {
     "name": "stdout",
     "output_type": "stream",
     "text": [
      "Validation RMSE: 7.837041964093058\n",
      "Test RMSE: 12.024241911159445\n"
     ]
    }
   ],
   "source": [
    "# Regressor\n",
    "rf_model = RandomForestRegressor(n_jobs=-1)\n",
    "\n",
    "# Max depth & number of trees\n",
    "parameters = dict(max_depth=list(range(2, 30, 7)),\n",
    "                  n_estimators=range(2, 50, 8))\n",
    "\n",
    "# Gridsearch\n",
    "gs = GridSearchCV(estimator=rf_model,\n",
    "                  param_grid=parameters,\n",
    "                  scoring='neg_mean_squared_error',\n",
    "                  cv=10,\n",
    "                  n_jobs=-1)\n",
    "\n",
    "# Fit\n",
    "gs.fit(train_data, train_target)\n",
    "\n",
    "# Validation RMSE\n",
    "print(f\"Validation RMSE: {math.sqrt(-gs.score(val_data, val_target))}\")\n",
    "\n",
    "# Test RMSE\n",
    "print(f\"Test RMSE: {math.sqrt(-gs.score(test_features, test_labels))}\")"
   ]
  },
  {
   "cell_type": "markdown",
   "metadata": {},
   "source": [
    "<br>\n",
    "<br>\n",
    "<br>"
   ]
  },
  {
   "cell_type": "markdown",
   "metadata": {},
   "source": [
    "## Gradient Boosted Trees"
   ]
  },
  {
   "cell_type": "code",
   "execution_count": 11,
   "metadata": {
    "ExecuteTime": {
     "end_time": "2019-03-13T00:37:49.485870Z",
     "start_time": "2019-03-13T00:37:49.187968Z"
    }
   },
   "outputs": [
    {
     "name": "stdout",
     "output_type": "stream",
     "text": [
      "Validation RMSE: 7.9035582946902485\n",
      "Test RMSE: 13.493144070367315\n"
     ]
    }
   ],
   "source": [
    "# Regressor\n",
    "rf_model = GradientBoostingRegressor()\n",
    "\n",
    "# Max depth and number of iterations\n",
    "parameters = dict(max_depth=list(range(2, 11, 4)),\n",
    "                  n_estimators=range(2, 11, 4))\n",
    "\n",
    "# Gridsearch\n",
    "gs = GridSearchCV(estimator=rf_model,\n",
    "                  param_grid=parameters,\n",
    "                  scoring='neg_mean_squared_error',\n",
    "                  cv=10,\n",
    "                  n_jobs=-1)\n",
    "\n",
    "# Fit\n",
    "gs.fit(train_data, train_target)\n",
    "\n",
    "# Validation RMSE\n",
    "print(f\"Validation RMSE: {math.sqrt(-gs.score(val_data, val_target))}\")\n",
    "\n",
    "# Test RMSE\n",
    "print(f\"Test RMSE: {math.sqrt(-gs.score(test_features, test_labels))}\")"
   ]
  }
 ],
 "metadata": {
  "kernelspec": {
   "display_name": "Python 3",
   "language": "python",
   "name": "python3"
  },
  "language_info": {
   "codemirror_mode": {
    "name": "ipython",
    "version": 3
   },
   "file_extension": ".py",
   "mimetype": "text/x-python",
   "name": "python",
   "nbconvert_exporter": "python",
   "pygments_lexer": "ipython3",
   "version": "3.6.8"
  }
 },
 "nbformat": 4,
 "nbformat_minor": 2
}
