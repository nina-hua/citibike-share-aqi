{
 "cells": [
  {
   "cell_type": "markdown",
   "metadata": {},
   "source": [
    "# Spark Cluster Setup"
   ]
  },
  {
   "cell_type": "markdown",
   "metadata": {},
   "source": [
    "Mongo-Spark Connector Configuration to Connect to MongoDB"
   ]
  },
  {
   "cell_type": "code",
   "execution_count": 1,
   "metadata": {
    "ExecuteTime": {
     "end_time": "2019-02-17T08:05:46.255072Z",
     "start_time": "2019-02-17T08:05:46.236775Z"
    }
   },
   "outputs": [
    {
     "data": {
      "text/html": [
       "Current session configs: <tt>{'conf': {'spark.jars.packages': 'org.mongodb.spark:mongo-spark-connector_2.11:2.4.0'}, 'kind': 'pyspark'}</tt><br>"
      ],
      "text/plain": [
       "<IPython.core.display.HTML object>"
      ]
     },
     "metadata": {},
     "output_type": "display_data"
    },
    {
     "data": {
      "text/html": [
       "No active sessions."
      ],
      "text/plain": [
       "<IPython.core.display.HTML object>"
      ]
     },
     "metadata": {},
     "output_type": "display_data"
    }
   ],
   "source": [
    "%%configure -f\n",
    "{\"conf\": {\"spark.jars.packages\": \"org.mongodb.spark:mongo-spark-connector_2.11:2.4.0\"}}"
   ]
  },
  {
   "cell_type": "code",
   "execution_count": 2,
   "metadata": {
    "ExecuteTime": {
     "end_time": "2019-02-17T08:06:13.076537Z",
     "start_time": "2019-02-17T08:05:46.256898Z"
    }
   },
   "outputs": [
    {
     "name": "stdout",
     "output_type": "stream",
     "text": [
      "Starting Spark application\n"
     ]
    },
    {
     "data": {
      "text/html": [
       "<table>\n",
       "<tr><th>ID</th><th>YARN Application ID</th><th>Kind</th><th>State</th><th>Spark UI</th><th>Driver log</th><th>Current session?</th></tr><tr><td>9</td><td>application_1550374948226_0700</td><td>pyspark</td><td>idle</td><td><a target=\"_blank\" href=\"http://ip-172-31-46-16.us-west-2.compute.internal:20888/proxy/application_1550374948226_0700/\">Link</a></td><td><a target=\"_blank\" href=\"http://ip-172-31-37-159.us-west-2.compute.internal:8042/node/containerlogs/container_1550374948226_0700_01_000001/livy\">Link</a></td><td>✔</td></tr></table>"
      ],
      "text/plain": [
       "<IPython.core.display.HTML object>"
      ]
     },
     "metadata": {},
     "output_type": "display_data"
    },
    {
     "name": "stdout",
     "output_type": "stream",
     "text": [
      "SparkSession available as 'spark'.\n"
     ]
    }
   ],
   "source": [
    "from datetime import datetime\n",
    "import numpy as np\n",
    "\n",
    "from pyspark import SparkContext, SparkConf\n",
    "\n",
    "from pyspark.sql import SparkSession\n",
    "from pyspark.sql.functions import udf, when, count, col, lag, avg, lit\n",
    "from pyspark.sql.types import *\n",
    "from pyspark.sql.window import Window\n",
    "\n",
    "from pyspark.ml import Pipeline\n",
    "from pyspark.ml.feature import OneHotEncoder\n",
    "from pyspark.ml.feature import StandardScaler\n",
    "from pyspark.ml.feature import StringIndexer\n",
    "from pyspark.ml.feature import VectorAssembler\n",
    "from pyspark.ml.evaluation import RegressionEvaluator\n",
    "from pyspark.ml.regression import LinearRegression\n",
    "from pyspark.ml.regression import RandomForestRegressor\n",
    "from pyspark.ml.regression import GBTRegressor\n",
    "from pyspark.ml.tuning import CrossValidator, ParamGridBuilder\n",
    "\n",
    "from pyspark.storagelevel import StorageLevel"
   ]
  },
  {
   "cell_type": "markdown",
   "metadata": {},
   "source": [
    "<br>\n",
    "<br>\n",
    "<br>"
   ]
  },
  {
   "cell_type": "markdown",
   "metadata": {},
   "source": [
    "Start timing for notebook execution"
   ]
  },
  {
   "cell_type": "code",
   "execution_count": 3,
   "metadata": {
    "ExecuteTime": {
     "end_time": "2019-02-17T08:06:13.081249Z",
     "start_time": "2019-02-17T08:06:13.078426Z"
    }
   },
   "outputs": [],
   "source": [
    "%%local\n",
    "import time\n",
    "start = time.time()"
   ]
  },
  {
   "cell_type": "markdown",
   "metadata": {},
   "source": [
    "<br>\n",
    "<br>\n",
    "<br>"
   ]
  },
  {
   "cell_type": "markdown",
   "metadata": {},
   "source": [
    "# Fetch Data from MongoDB"
   ]
  },
  {
   "cell_type": "markdown",
   "metadata": {},
   "source": [
    "## Bikeshare Data"
   ]
  },
  {
   "cell_type": "code",
   "execution_count": 4,
   "metadata": {
    "ExecuteTime": {
     "end_time": "2019-02-17T08:06:18.360538Z",
     "start_time": "2019-02-17T08:06:13.083142Z"
    }
   },
   "outputs": [
    {
     "name": "stdout",
     "output_type": "stream",
     "text": [
      "root\n",
      " |-- starttime: string (nullable = true)"
     ]
    }
   ],
   "source": [
    "mongodb_path = \"mongodb://172.31.38.7/msds697.bikeshare\"\n",
    "\n",
    "spark_bike = SparkSession \\\n",
    "    .builder \\\n",
    "    .appName(\"group25\") \\\n",
    "    .config(\"spark.mongodb.input.uri\", mongodb_path)\\\n",
    "    .config(\"spark.driver.memory\", \"24g\")\\\n",
    "    .config(\"spark.yarn.appMasterEnv.PYSPARK_PYTHON\", \"python36\")\\\n",
    "    .config(\"spark.executorEnv.PYSPARK_PYTHON\", \"python36\")\\\n",
    "    .getOrCreate()\n",
    "\n",
    "bikeshare = spark_bike.read.format(\"com.mongodb.spark.sql.DefaultSource\").load().drop('_id')  # Load Data\n",
    "bikeshare = bikeshare.select('starttime').filter(\"starttime != 'starttime'\").cache()  # Keep only starttime column and filter out erroneous header line\n",
    "\n",
    "bikeshare.printSchema()\n",
    "# bikeshare.count()  # 47758652"
   ]
  },
  {
   "cell_type": "markdown",
   "metadata": {},
   "source": [
    "## AQI Data"
   ]
  },
  {
   "cell_type": "code",
   "execution_count": 5,
   "metadata": {
    "ExecuteTime": {
     "end_time": "2019-02-17T08:06:21.612573Z",
     "start_time": "2019-02-17T08:06:18.362402Z"
    }
   },
   "outputs": [
    {
     "name": "stdout",
     "output_type": "stream",
     "text": [
      "root\n",
      " |-- aqi: integer (nullable = true)\n",
      " |-- siteID: integer (nullable = true)\n",
      " |-- yyyy/mm/dd: string (nullable = true)\n",
      "\n",
      "12859"
     ]
    }
   ],
   "source": [
    "mongodb_path = \"mongodb://172.31.38.7/aqi.aqi\"\n",
    "\n",
    "spark_aqi = SparkSession \\\n",
    "    .builder \\\n",
    "    .appName(\"group25\") \\\n",
    "    .config(\"spark.mongodb.input.uri\", mongodb_path)\\\n",
    "    .config(\"spark.driver.memory\", \"24g\")\\\n",
    "    .config(\"spark.yarn.appMasterEnv.PYSPARK_PYTHON\", \"python36\")\\\n",
    "    .config(\"spark.executorEnv.PYSPARK_PYTHON\", \"python36\")\\\n",
    "    .getOrCreate()\n",
    "\n",
    "aqi = spark_aqi.read.format(\"com.mongodb.spark.sql.DefaultSource\").load().drop('_id').cache()\n",
    "aqi = aqi.select(['aqi', 'siteID', 'yyyy/mm/dd'])  # Keep only starttime column\n",
    "\n",
    "aqi.printSchema()\n",
    "aqi_total_count = aqi.count()\n",
    "print(aqi_total_count)"
   ]
  },
  {
   "cell_type": "markdown",
   "metadata": {},
   "source": [
    "<br>\n",
    "<br>\n",
    "<br>"
   ]
  },
  {
   "cell_type": "markdown",
   "metadata": {},
   "source": [
    "# Calculations"
   ]
  },
  {
   "cell_type": "markdown",
   "metadata": {},
   "source": [
    "## Daily Usage"
   ]
  },
  {
   "cell_type": "code",
   "execution_count": 6,
   "metadata": {
    "ExecuteTime": {
     "end_time": "2019-02-17T08:06:21.631313Z",
     "start_time": "2019-02-17T08:06:21.614197Z"
    }
   },
   "outputs": [],
   "source": [
    "def formatDateRide(mydate):\n",
    "    \"\"\"\n",
    "    Re-formats date to match bike date \n",
    "    \"\"\"\n",
    "    mydate = mydate.split(' ')[0]\n",
    "    try:\n",
    "        objDate = datetime.strptime(mydate, '%Y-%m-%d')\n",
    "        return datetime.strftime(objDate,'%-m/%-d/%Y')\n",
    "    except ValueError:\n",
    "        return mydate"
   ]
  },
  {
   "cell_type": "code",
   "execution_count": 7,
   "metadata": {
    "ExecuteTime": {
     "end_time": "2019-02-17T08:06:21.864912Z",
     "start_time": "2019-02-17T08:06:21.633121Z"
    }
   },
   "outputs": [
    {
     "name": "stdout",
     "output_type": "stream",
     "text": [
      "root\n",
      " |-- date: string (nullable = true)\n",
      " |-- count: long (nullable = false)"
     ]
    }
   ],
   "source": [
    "# Extract only date from timestamp\n",
    "date_udf = udf(lambda date: formatDateRide(date))\n",
    "daily_ridership = bikeshare.select(\"starttime\").withColumn(\"date\", date_udf(\"starttime\")).groupBy(\"date\").count()\n",
    "daily_ridership.printSchema()"
   ]
  },
  {
   "cell_type": "markdown",
   "metadata": {},
   "source": [
    "## Daily AQI"
   ]
  },
  {
   "cell_type": "code",
   "execution_count": 8,
   "metadata": {
    "ExecuteTime": {
     "end_time": "2019-02-17T08:06:21.882741Z",
     "start_time": "2019-02-17T08:06:21.866772Z"
    }
   },
   "outputs": [],
   "source": [
    "def formatDate(mydate):\n",
    "    \"\"\"\n",
    "    Re-formats date to match bike date \n",
    "    \"\"\"\n",
    "    objDate = datetime.strptime(mydate, '%Y/%m/%d')\n",
    "    return datetime.strftime(objDate,'%-m/%-d/%Y')"
   ]
  },
  {
   "cell_type": "code",
   "execution_count": 9,
   "metadata": {
    "ExecuteTime": {
     "end_time": "2019-02-17T08:06:22.105841Z",
     "start_time": "2019-02-17T08:06:21.884441Z"
    }
   },
   "outputs": [
    {
     "name": "stdout",
     "output_type": "stream",
     "text": [
      "root\n",
      " |-- date: string (nullable = true)\n",
      " |-- max(AQI): integer (nullable = true)"
     ]
    }
   ],
   "source": [
    "date_udf = udf(lambda date: formatDate(date))\n",
    "\n",
    "# Changing format of date column\n",
    "aqi = aqi.withColumn(\"date\", date_udf(\"yyyy/mm/dd\")).drop(\"siteID\", \"yyyy/mm/dd\")\n",
    "\n",
    "# Maintaining only the two stations near NYC\n",
    "NYC_sites = aqi.filter(\"SiteID == 360610135 or SiteID == 340171002\")\n",
    "\n",
    "# Group by Date\n",
    "daily_aqi = NYC_sites.groupBy(\"date\").max(\"AQI\")\n",
    "\n",
    "daily_aqi.printSchema()"
   ]
  },
  {
   "cell_type": "markdown",
   "metadata": {},
   "source": [
    "<br>\n",
    "<br>\n",
    "<br>"
   ]
  },
  {
   "cell_type": "markdown",
   "metadata": {},
   "source": [
    "# Joining AQI & Bike Data "
   ]
  },
  {
   "cell_type": "code",
   "execution_count": 10,
   "metadata": {
    "ExecuteTime": {
     "end_time": "2019-02-17T08:06:22.330646Z",
     "start_time": "2019-02-17T08:06:22.107813Z"
    }
   },
   "outputs": [
    {
     "name": "stdout",
     "output_type": "stream",
     "text": [
      "root\n",
      " |-- date: string (nullable = true)\n",
      " |-- count: long (nullable = false)\n",
      " |-- max(AQI): integer (nullable = true)"
     ]
    }
   ],
   "source": [
    "bike_aqi_joined = daily_ridership.join(daily_aqi, 'date','inner')\n",
    "bike_aqi_joined.printSchema()"
   ]
  },
  {
   "cell_type": "markdown",
   "metadata": {},
   "source": [
    "<br>\n",
    "<br>\n",
    "<br>"
   ]
  },
  {
   "cell_type": "markdown",
   "metadata": {},
   "source": [
    "# Feature Engineering"
   ]
  },
  {
   "cell_type": "markdown",
   "metadata": {},
   "source": [
    "## Previous Day's AQI"
   ]
  },
  {
   "cell_type": "code",
   "execution_count": 11,
   "metadata": {
    "ExecuteTime": {
     "end_time": "2019-02-17T08:06:22.555746Z",
     "start_time": "2019-02-17T08:06:22.332721Z"
    }
   },
   "outputs": [
    {
     "name": "stdout",
     "output_type": "stream",
     "text": [
      "root\n",
      " |-- date: string (nullable = true)\n",
      " |-- count: long (nullable = false)\n",
      " |-- max(AQI): integer (nullable = true)\n",
      " |-- pre_AQI: integer (nullable = true)"
     ]
    }
   ],
   "source": [
    "# Adding AQI lagged at 1 day\n",
    "bike_aqi_joined = bike_aqi_joined.select('date', 'count', 'max(AQI)',\\\n",
    "                       lag('max(AQI)', 1).over(Window.orderBy('date'))\\\n",
    "                      .alias('pre_AQI'))\n",
    "\n",
    "bike_aqi_joined.printSchema()"
   ]
  },
  {
   "cell_type": "markdown",
   "metadata": {},
   "source": [
    "## Season Indicator Variable"
   ]
  },
  {
   "cell_type": "code",
   "execution_count": 12,
   "metadata": {
    "ExecuteTime": {
     "end_time": "2019-02-17T08:06:22.574392Z",
     "start_time": "2019-02-17T08:06:22.557815Z"
    }
   },
   "outputs": [],
   "source": [
    "def getMonth(inval):\n",
    "    try:\n",
    "        return int(datetime.strptime(inval, \"%m/%d/%Y\").month)\n",
    "    except ValueError:\n",
    "        return None\n",
    "\n",
    "def getYear(inval):\n",
    "    try:\n",
    "        return int(datetime.strptime(inval, \"%m/%d/%Y\").year)\n",
    "    except ValueError:\n",
    "        return None\n",
    "def getSeason(month):\n",
    "    season_dict = {'winter' : [1, 2, 12],\n",
    "                   'summer' : [6, 7, 8],\n",
    "                   'spring' : [3, 4, 5],\n",
    "                   'autumn' : [9, 10, 11]}\n",
    "    for season in season_dict:\n",
    "        if month in season_dict.get(season):\n",
    "            return season "
   ]
  },
  {
   "cell_type": "code",
   "execution_count": 13,
   "metadata": {
    "ExecuteTime": {
     "end_time": "2019-02-17T08:06:22.796106Z",
     "start_time": "2019-02-17T08:06:22.576150Z"
    }
   },
   "outputs": [],
   "source": [
    "year_udf = udf(lambda date: getYear(date))\n",
    "month_udf = udf(lambda date: getMonth(date))\n",
    "season_udf = udf(lambda month: getSeason(int(month)))\n",
    "\n",
    "bike_aqi_joined = bike_aqi_joined.withColumn(\"month\", month_udf(bike_aqi_joined.date))\\\n",
    "                .withColumn(\"year\", year_udf(bike_aqi_joined.date))\n",
    "bike_aqi_joined = bike_aqi_joined.withColumn(\"season\", season_udf(bike_aqi_joined.month))"
   ]
  },
  {
   "cell_type": "markdown",
   "metadata": {},
   "source": [
    "<br>\n",
    "<br>\n",
    "<br>"
   ]
  },
  {
   "cell_type": "markdown",
   "metadata": {},
   "source": [
    "# Prepare Data for Machine Learning Pipeline"
   ]
  },
  {
   "cell_type": "markdown",
   "metadata": {},
   "source": [
    "## Filter Out All Nulls"
   ]
  },
  {
   "cell_type": "code",
   "execution_count": 14,
   "metadata": {
    "ExecuteTime": {
     "end_time": "2019-02-17T08:06:23.019473Z",
     "start_time": "2019-02-17T08:06:22.798031Z"
    }
   },
   "outputs": [
    {
     "name": "stdout",
     "output_type": "stream",
     "text": [
      "root\n",
      " |-- count: long (nullable = false)\n",
      " |-- max(AQI): integer (nullable = true)\n",
      " |-- pre_AQI: integer (nullable = true)\n",
      " |-- season: string (nullable = true)"
     ]
    }
   ],
   "source": [
    "bike_ml = bike_aqi_joined.filter(bike_aqi_joined.pre_AQI.isNotNull()).drop('date', 'month', 'year')\n",
    "bike_ml.printSchema()"
   ]
  },
  {
   "cell_type": "markdown",
   "metadata": {},
   "source": [
    "## Convert Categorical Values to One-Hot Encoding"
   ]
  },
  {
   "cell_type": "code",
   "execution_count": 15,
   "metadata": {
    "ExecuteTime": {
     "end_time": "2019-02-17T08:14:05.923565Z",
     "start_time": "2019-02-17T08:06:23.021445Z"
    }
   },
   "outputs": [
    {
     "name": "stdout",
     "output_type": "stream",
     "text": [
      "----------------------------------------\n",
      "Exception happened during processing of request from ('127.0.0.1', 33672)\n",
      "Traceback (most recent call last):\n",
      "  File \"/usr/lib64/python3.6/socketserver.py\", line 317, in _handle_request_noblock\n",
      "    self.process_request(request, client_address)\n",
      "  File \"/usr/lib64/python3.6/socketserver.py\", line 348, in process_request\n",
      "    self.finish_request(request, client_address)\n",
      "  File \"/usr/lib64/python3.6/socketserver.py\", line 361, in finish_request\n",
      "    self.RequestHandlerClass(request, client_address, self)\n",
      "  File \"/usr/lib64/python3.6/socketserver.py\", line 696, in __init__\n",
      "    self.handle()\n",
      "  File \"/usr/lib/spark/python/lib/pyspark.zip/pyspark/accumulators.py\", line 266, in handle\n",
      "    poll(authenticate_and_accum_updates)\n",
      "  File \"/usr/lib/spark/python/lib/pyspark.zip/pyspark/accumulators.py\", line 241, in poll\n",
      "    if func():\n",
      "  File \"/usr/lib/spark/python/lib/pyspark.zip/pyspark/accumulators.py\", line 254, in authenticate_and_accum_updates\n",
      "    received_token = self.rfile.read(len(auth_token))\n",
      "TypeError: object of type 'NoneType' has no len()\n",
      "----------------------------------------"
     ]
    }
   ],
   "source": [
    "# Convert to Numeric type first\n",
    "# First time usually doesn't work while executing the fetching of the data from MongoDB\n",
    "# Second time's a charm. Execution is fast since the data is now actually loaded\n",
    "for i in range(2):\n",
    "    si = StringIndexer(inputCol=\"season\", outputCol=\"season-num\")\n",
    "    sm = si.fit(bike_ml)\n",
    "    bike_num = sm.transform(bike_ml).drop(\"season\")\n",
    "    bike_num = bike_num.withColumnRenamed(\"season-num\", \"season\")"
   ]
  },
  {
   "cell_type": "code",
   "execution_count": 16,
   "metadata": {
    "ExecuteTime": {
     "end_time": "2019-02-17T08:14:06.147096Z",
     "start_time": "2019-02-17T08:14:05.927329Z"
    }
   },
   "outputs": [],
   "source": [
    "# Then One-Hot encode numerics\n",
    "onehotenc = OneHotEncoder(inputCol=\"season\", outputCol=\"season-onehot\", dropLast=True)\n",
    "bike_ohe = onehotenc.transform(bike_num).drop(\"season\")\n",
    "bike_ohe = bike_ohe.withColumnRenamed(\"season-onehot\", \"season\")"
   ]
  },
  {
   "cell_type": "code",
   "execution_count": 17,
   "metadata": {
    "ExecuteTime": {
     "end_time": "2019-02-17T08:14:06.165238Z",
     "start_time": "2019-02-17T08:14:06.149032Z"
    }
   },
   "outputs": [
    {
     "name": "stdout",
     "output_type": "stream",
     "text": [
      "root\n",
      " |-- count: long (nullable = false)\n",
      " |-- max(AQI): integer (nullable = true)\n",
      " |-- pre_AQI: integer (nullable = true)\n",
      " |-- season: vector (nullable = true)"
     ]
    }
   ],
   "source": [
    "bike_ohe.printSchema()"
   ]
  },
  {
   "cell_type": "markdown",
   "metadata": {},
   "source": [
    "### Create Feature Vector and Label Column"
   ]
  },
  {
   "cell_type": "code",
   "execution_count": 18,
   "metadata": {
    "ExecuteTime": {
     "end_time": "2019-02-17T08:15:37.707005Z",
     "start_time": "2019-02-17T08:14:06.167007Z"
    }
   },
   "outputs": [
    {
     "name": "stdout",
     "output_type": "stream",
     "text": [
      "+--------------------+-----+\n",
      "|            features|label|\n",
      "+--------------------+-----+\n",
      "|(5,[0,1],[16009.0...|   40|\n",
      "|(5,[0,1],[5500.0,...|   28|\n",
      "|(5,[0,1],[14275.0...|   26|\n",
      "|(5,[0,1],[23232.0...|   46|\n",
      "|(5,[0,1],[28252.0...|   84|\n",
      "+--------------------+-----+\n",
      "only showing top 5 rows"
     ]
    }
   ],
   "source": [
    "input_cols = [\"count\", \"pre_AQI\", \"season\"]\n",
    "va = VectorAssembler(outputCol=\"features\", inputCols=input_cols)\n",
    "bike_labeled = va.transform(bike_ohe).select(\"features\", \"max(AQI)\").withColumnRenamed(\"max(AQI)\", \"label\")\n",
    "\n",
    "bike_labeled.show(5)"
   ]
  },
  {
   "cell_type": "code",
   "execution_count": 19,
   "metadata": {
    "ExecuteTime": {
     "end_time": "2019-02-17T08:15:37.930273Z",
     "start_time": "2019-02-17T08:15:37.708830Z"
    }
   },
   "outputs": [
    {
     "name": "stdout",
     "output_type": "stream",
     "text": [
      "DataFrame[features: vector, label: int]"
     ]
    }
   ],
   "source": [
    "# Persist on Memory for Faster Access\n",
    "bike_labeled.persist(StorageLevel.MEMORY_AND_DISK)"
   ]
  },
  {
   "cell_type": "markdown",
   "metadata": {},
   "source": [
    "<br>\n",
    "<br>\n",
    "<br>"
   ]
  },
  {
   "cell_type": "markdown",
   "metadata": {},
   "source": [
    "# Train-Test Split "
   ]
  },
  {
   "cell_type": "markdown",
   "metadata": {},
   "source": [
    "80/20 split"
   ]
  },
  {
   "cell_type": "code",
   "execution_count": 20,
   "metadata": {
    "ExecuteTime": {
     "end_time": "2019-02-17T08:15:38.152710Z",
     "start_time": "2019-02-17T08:15:37.932052Z"
    }
   },
   "outputs": [],
   "source": [
    "train, test = bike_labeled.randomSplit([0.8, 0.2])"
   ]
  },
  {
   "cell_type": "markdown",
   "metadata": {},
   "source": [
    "<br>\n",
    "<br>\n",
    "<br>"
   ]
  },
  {
   "cell_type": "markdown",
   "metadata": {},
   "source": [
    "# Modeling\n",
    "## Baseline"
   ]
  },
  {
   "cell_type": "markdown",
   "metadata": {},
   "source": [
    "Baseline modeling would be to predict the AQI for the day to be to be the mean AQI"
   ]
  },
  {
   "cell_type": "code",
   "execution_count": 21,
   "metadata": {
    "ExecuteTime": {
     "end_time": "2019-02-17T08:17:07.684063Z",
     "start_time": "2019-02-17T08:15:38.154679Z"
    }
   },
   "outputs": [
    {
     "name": "stdout",
     "output_type": "stream",
     "text": [
      "Average AQI Over Entire Dataset: 27.19016083254494"
     ]
    }
   ],
   "source": [
    "avg_aqi = bike_ml.select('max(AQI)').agg({\"max(AQI)\": \"avg\"}).collect()[0][0]  # best constant prediction\n",
    "print(f\"Average AQI Over Entire Dataset: {avg_aqi}\")  # best constant"
   ]
  },
  {
   "cell_type": "code",
   "execution_count": 22,
   "metadata": {
    "ExecuteTime": {
     "end_time": "2019-02-17T08:18:39.222546Z",
     "start_time": "2019-02-17T08:17:07.685884Z"
    }
   },
   "outputs": [
    {
     "name": "stdout",
     "output_type": "stream",
     "text": [
      "Baseline RMSE = 12.8273"
     ]
    }
   ],
   "source": [
    "baseline = test\n",
    "baseline = baseline.withColumn('prediction', lit(avg_aqi))\n",
    "\n",
    "evaluator = RegressionEvaluator(\n",
    "    labelCol=\"label\", predictionCol=\"prediction\", metricName=\"rmse\")\n",
    "print(f'Baseline RMSE = {round(evaluator.evaluate(baseline),4)}')"
   ]
  },
  {
   "cell_type": "markdown",
   "metadata": {},
   "source": [
    "## Linear Regression"
   ]
  },
  {
   "cell_type": "code",
   "execution_count": 23,
   "metadata": {
    "ExecuteTime": {
     "end_time": "2019-02-17T08:19:22.619439Z",
     "start_time": "2019-02-17T08:18:39.224303Z"
    }
   },
   "outputs": [],
   "source": [
    "%%notify -m \"Linear Regression Complete\"\n",
    "# Build Pipeline\n",
    "scaler = StandardScaler(inputCol='features', outputCol='scaled_feats', withStd=True, withMean=True)  # Feature Scaling\n",
    "lr = LinearRegression(featuresCol='scaled_feats')  # Linear Regressor\n",
    "pipeline = Pipeline(stages=[scaler, lr])  # Pipeline\n",
    "\n",
    "# Parameter Grid\n",
    "paramGrid = ParamGridBuilder() \\\n",
    "    .addGrid(lr.elasticNetParam, np.arange(0, 1, 0.1)) \\\n",
    "    .build()\n",
    "\n",
    "# Cross-Validator\n",
    "crossval = CrossValidator(estimator=pipeline,\n",
    "                          estimatorParamMaps=paramGrid,\n",
    "                          evaluator=RegressionEvaluator(),\n",
    "                          numFolds=10)\n",
    "\n",
    "# Fit\n",
    "lr_model = crossval.fit(train)"
   ]
  },
  {
   "cell_type": "code",
   "execution_count": 24,
   "metadata": {
    "ExecuteTime": {
     "end_time": "2019-02-17T08:19:22.849634Z",
     "start_time": "2019-02-17T08:19:22.621344Z"
    },
    "scrolled": true
   },
   "outputs": [
    {
     "name": "stdout",
     "output_type": "stream",
     "text": [
      "RMSE = 10.835\n",
      "Feature Coefficients:\n",
      "\tcount: 3.007209355426316\n",
      "\tpre_AQI: -1.365996915619375\n",
      "\tseason2: -2.13451769466443\n",
      "\tseason1: -6.778874412317296\n",
      "\tseason3: -8.082021945576125"
     ]
    }
   ],
   "source": [
    "# Predict\n",
    "pred = lr_model.transform(test)\n",
    "\n",
    "# Performance Evaluation\n",
    "evaluator = RegressionEvaluator(\n",
    "    labelCol=\"label\", predictionCol=\"prediction\", metricName=\"rmse\")\n",
    "print(f'RMSE = {round(evaluator.evaluate(pred),4)}')\n",
    "\n",
    "# Coefficients\n",
    "print(\"Feature Coefficients:\")\n",
    "features = ['count', 'pre_AQI', 'season1', 'season2', 'season3']\n",
    "feat_coef = sorted(zip(features, lr_model.bestModel.stages[-1].coefficients), key=lambda x: x[1], reverse=True)\n",
    "\n",
    "for feat in feat_coef:\n",
    "    print(f\"\\t{feat[0]}: {feat[1]}\")"
   ]
  },
  {
   "cell_type": "markdown",
   "metadata": {},
   "source": [
    "## Random Forest "
   ]
  },
  {
   "cell_type": "code",
   "execution_count": 25,
   "metadata": {
    "ExecuteTime": {
     "end_time": "2019-02-17T08:23:22.597275Z",
     "start_time": "2019-02-17T08:19:22.851608Z"
    }
   },
   "outputs": [],
   "source": [
    "%%notify -m \"Random Forest Complete\"\n",
    "# Regressor\n",
    "rfr = RandomForestRegressor()\n",
    "\n",
    "# Parameter Grid\n",
    "rf_paramGrid = ParamGridBuilder()\\\n",
    "  .addGrid(rfr.maxDepth, list(range(2, 30, 7)))\\\n",
    "  .addGrid(rfr.numTrees, list(range(2, 50, 8)))\\\n",
    "  .build()\n",
    "\n",
    "# Cross-Validator\n",
    "rf_crossval = CrossValidator(estimator=rfr,\n",
    "                          estimatorParamMaps=rf_paramGrid,\n",
    "                          evaluator=RegressionEvaluator(),\n",
    "                          numFolds=10)\n",
    "\n",
    "# Fit\n",
    "rfr_model = rf_crossval.fit(train)"
   ]
  },
  {
   "cell_type": "code",
   "execution_count": 26,
   "metadata": {
    "ExecuteTime": {
     "end_time": "2019-02-17T08:23:22.826963Z",
     "start_time": "2019-02-17T08:23:22.599122Z"
    }
   },
   "outputs": [
    {
     "name": "stdout",
     "output_type": "stream",
     "text": [
      "RMSE = 10.8328\n",
      "Feature Importance:\n",
      "\tcount: 0.3135135884009873\n",
      "\tpre_AQI: 0.2503746425023543\n",
      "\tseason3: 0.22891882027138757\n",
      "\tseason1: 0.11718529612757503\n",
      "\tseason2: 0.09000765269769577"
     ]
    }
   ],
   "source": [
    "# Predict\n",
    "pred = rfr_model.transform(test)\n",
    "\n",
    "# Performance Evaluation\n",
    "print(f'RMSE = {round(evaluator.evaluate(pred),4)}')\n",
    "\n",
    "# Feature Importance\n",
    "print(\"Feature Importance:\")\n",
    "feat_impor = sorted([(feat, rfr_model.bestModel.featureImportances[i]) for i,feat in enumerate(features)],\n",
    "                    key=lambda x: x[1], reverse=True)\n",
    "for feat in feat_impor:\n",
    "    print(f\"\\t{feat[0]}: {feat[1]}\")\n",
    "\n",
    "# Decision Tree if desired but too big to print\n",
    "# print(rfr_model._call_java('toDebugString'))"
   ]
  },
  {
   "cell_type": "markdown",
   "metadata": {},
   "source": [
    "## Gradient Boosted Trees"
   ]
  },
  {
   "cell_type": "code",
   "execution_count": 27,
   "metadata": {
    "ExecuteTime": {
     "end_time": "2019-02-17T08:50:02.136514Z",
     "start_time": "2019-02-17T08:23:22.828864Z"
    }
   },
   "outputs": [],
   "source": [
    "%%notify -m \"Gradient Boosted Trees Complete\"\n",
    "# Regressor\n",
    "gbt = GBTRegressor()\n",
    "\n",
    "# Parameter Grid\n",
    "gbt_paramGrid = ParamGridBuilder()\\\n",
    "  .addGrid(gbt.maxDepth, list(range(2, 30, 7)))\\\n",
    "  .addGrid(gbt.maxIter, list(range(2, 50, 8)))\\\n",
    "  .build()\n",
    "\n",
    "# Cross-Validator\n",
    "gbt_crossval = CrossValidator(estimator=gbt,\n",
    "                          estimatorParamMaps=rf_paramGrid,\n",
    "                          evaluator=RegressionEvaluator(),\n",
    "                          numFolds=10)\n",
    "\n",
    "# Fit\n",
    "gbt_model = gbt_crossval.fit(train)"
   ]
  },
  {
   "cell_type": "code",
   "execution_count": 31,
   "metadata": {
    "ExecuteTime": {
     "end_time": "2019-02-17T08:52:55.660384Z",
     "start_time": "2019-02-17T08:52:55.434089Z"
    }
   },
   "outputs": [
    {
     "name": "stdout",
     "output_type": "stream",
     "text": [
      "RMSE = 11.3094\n",
      "Feature Importance:\n",
      "\tpre_AQI: 0.4562231143941505\n",
      "\tcount: 0.4144718236293796\n",
      "\tseason3: 0.057088220860547954\n",
      "\tseason2: 0.03900636650278398\n",
      "\tseason1: 0.03321047461313793"
     ]
    }
   ],
   "source": [
    "# Predict\n",
    "pred = gbt_model.transform(test)\n",
    "\n",
    "# Performance Evalution\n",
    "evaluator = RegressionEvaluator(\n",
    "    labelCol=\"label\", predictionCol=\"prediction\", metricName=\"rmse\")\n",
    "print(f'RMSE = {round(evaluator.evaluate(pred),4)}')\n",
    "\n",
    "# Feature Importance\n",
    "print(\"Feature Importance:\")\n",
    "feat_impor = sorted([(feat, gbt_model.bestModel.featureImportances[i]) for i,feat in enumerate(features)],\n",
    "                    key=lambda x: x[1], reverse=True)\n",
    "for feat in feat_impor:\n",
    "    print(f\"\\t{feat[0]}: {feat[1]}\")\n",
    "\n",
    "# Decision Tree if desired but too big to print\n",
    "# print(gb_model._call_java('toDebugString'))"
   ]
  },
  {
   "cell_type": "markdown",
   "metadata": {},
   "source": [
    "<br>\n",
    "<br>\n",
    "<br>"
   ]
  },
  {
   "cell_type": "markdown",
   "metadata": {},
   "source": [
    "Total Execution Time"
   ]
  },
  {
   "cell_type": "code",
   "execution_count": 37,
   "metadata": {
    "ExecuteTime": {
     "end_time": "2019-02-17T08:56:28.563587Z",
     "start_time": "2019-02-17T08:56:28.560029Z"
    }
   },
   "outputs": [
    {
     "name": "stdout",
     "output_type": "stream",
     "text": [
      "Total Execution Time: 50.25802971124649 minutes\n"
     ]
    }
   ],
   "source": [
    "%%local\n",
    "print(f\"Total Execution Time: {(time.time() - start) / 60} minutes\")"
   ]
  },
  {
   "cell_type": "markdown",
   "metadata": {},
   "source": [
    "<br>\n",
    "<br>\n",
    "<br>"
   ]
  },
  {
   "cell_type": "markdown",
   "metadata": {},
   "source": [
    "Save Final Dataframe to S3"
   ]
  },
  {
   "cell_type": "code",
   "execution_count": null,
   "metadata": {
    "ExecuteTime": {
     "end_time": "2019-02-17T08:50:02.459540Z",
     "start_time": "2019-02-17T08:05:45.641Z"
    }
   },
   "outputs": [],
   "source": [
    "# bike_aqi_joined.write.csv('s3://msds697-phil/BikeshareDF', 'overwrite')"
   ]
  }
 ],
 "metadata": {
  "kernelspec": {
   "display_name": "PySpark",
   "language": "",
   "name": "pysparkkernel"
  },
  "language_info": {
   "codemirror_mode": {
    "name": "python",
    "version": 2
   },
   "mimetype": "text/x-python",
   "name": "pyspark",
   "pygments_lexer": "python2"
  }
 },
 "nbformat": 4,
 "nbformat_minor": 2
}
